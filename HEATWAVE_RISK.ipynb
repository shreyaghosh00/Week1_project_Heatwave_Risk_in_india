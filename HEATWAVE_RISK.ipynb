{
 "cells": [
  {
   "cell_type": "markdown",
   "id": "5692a5af",
   "metadata": {},
   "source": [
    "\n",
    "# Week 1 Project — Climate Risk & Disaster Management  \n",
    "## Dataset: Heatwave Risk in India\n",
    "\n",
    "This notebook completes the **Week 1 Project** up to the **data understanding** stage.\n",
    "\n",
    "**Steps:**  \n",
    "1. Import necessary libraries  \n",
    "2. Load the dataset (Heatwave Risk in India)  \n",
    "3. Explore the dataset with:  \n",
    "   - `.info()`  \n",
    "   - `.describe()`  \n",
    "   - `.isnull().sum()` (to check missing values)\n"
   ]
  },
  {
   "cell_type": "markdown",
   "id": "b9d8c065",
   "metadata": {},
   "source": [
    "\n",
    "## Instructions\n",
    "\n",
    "1. Download the dataset from Kaggle manually:  \n",
    "   👉 https://www.kaggle.com/datasets/s3programmer/heatwave-risk-in-india  \n",
    "\n",
    "   OR use the **Kaggle API cell below** to download automatically.\n",
    "\n",
    "2. Place the CSV file (`Heatwave_Risk_India.csv`) into the `data/` folder if downloaded manually.\n",
    "\n",
    "3. Run each cell step by step.\n",
    "\n",
    "4. Save  notebook when finished.\n"
   ]
  },
  {
   "cell_type": "markdown",
   "id": "e6fb9b70",
   "metadata": {},
   "source": [
    "\n",
    "## 🔄 Optional: Download dataset automatically with Kaggle API\n",
    "\n",
    "If you don’t want to manually download from Kaggle, run the cell below **after placing your `kaggle.json` API key**:\n",
    "\n",
    "- On Colab: upload your `kaggle.json` file when prompted.  \n",
    "- On local (Windows/Linux/Mac): put `kaggle.json` into `~/.kaggle/` (Linux/Mac) or `C:\\Users\\<you>\\.kaggle\\` (Windows).  \n"
   ]
  },
  {
   "cell_type": "code",
   "execution_count": null,
   "id": "415a8196",
   "metadata": {},
   "outputs": [],
   "source": [
    "\n",
    "# Install Kaggle API (skip if already installed)\n",
    "!pip install kaggle -q\n",
    "\n",
    "# For Colab users: upload kaggle.json here\n",
    "#from google.colab import files\n",
    "#files.upload()  # uncomment if running on Colab to upload kaggle.json\n",
    "\n",
    "# Create kaggle directory if it doesn't exist\n",
    "!mkdir -p ~/.kaggle\n",
    "\n",
    "# If uploaded in Colab, copy to ~/.kaggle\n",
    "#!cp kaggle.json ~/.kaggle/\n",
    "!chmod 600 ~/.kaggle/kaggle.json\n",
    "\n",
    "# Download Flood Risk in India dataset into data/ folder\n",
    "!kaggle datasets download -d s3programmer/heatwave-risk-in-india -p data/ --unzip\n",
    "\n",
    "print(\"✅ Dataset downloaded into data/ folder\")\n"
   ]
  },
  {
   "cell_type": "code",
   "execution_count": null,
   "id": "1c767eb2",
   "metadata": {},
   "outputs": [],
   "source": [
    "\n",
    "# Step 1: Import libraries\n",
    "import pandas as pd\n",
    "import numpy as np\n",
    "import matplotlib.pyplot as plt\n",
    "import os\n",
    "\n",
    "print(\"Libraries imported successfully\")\n"
   ]
  },
  {
   "cell_type": "code",
   "execution_count": null,
   "id": "5f6aa69e",
   "metadata": {},
   "outputs": [],
   "source": [
    "\n",
    "# Step 2: Set dataset path (adjust if filename differs)\n",
    "DATA_FILE = \"data/Flood_Risk_India.csv\"\n",
    "\n",
    "if not os.path.exists(DATA_FILE):\n",
    "    print(f\"⚠️ File not found: {DATA_FILE}. Please place the dataset CSV in the data/ folder.\")\n",
    "else:\n",
    "    print(f\"Found dataset: {DATA_FILE}\")\n"
   ]
  },
  {
   "cell_type": "code",
   "execution_count": null,
   "id": "fb39ff7d",
   "metadata": {},
   "outputs": [],
   "source": [
    "\n",
    "# Helper: List available files in data/\n",
    "for root, dirs, files in os.walk(\"data\"):\n",
    "    for file in files:\n",
    "        print(os.path.join(root, file))\n"
   ]
  },
  {
   "cell_type": "code",
   "execution_count": null,
   "id": "4fbdbb34",
   "metadata": {},
   "outputs": [],
   "source": [
    "\n",
    "# Step 2: Load dataset\n",
    "if os.path.exists(DATA_FILE):\n",
    "    try:\n",
    "        df = pd.read_csv(DATA_FILE)\n",
    "    except UnicodeDecodeError:\n",
    "        df = pd.read_csv(DATA_FILE, encoding=\"latin-1\")\n",
    "    except Exception as e:\n",
    "        raise e\n",
    "\n",
    "    print(\"Dataset loaded successfully!\")\n",
    "    print(\"Shape:\", df.shape)\n",
    "    display(df.head())\n",
    "else:\n",
    "    print(\"Please download from Kaggle and set DATA_FILE correctly.\")\n"
   ]
  },
  {
   "cell_type": "code",
   "execution_count": null,
   "id": "b773d81b",
   "metadata": {},
   "outputs": [],
   "source": [
    "\n",
    "# Step 3a: Dataset info\n",
    "if 'df' in globals():\n",
    "    df.info()\n",
    "else:\n",
    "    print(\"Dataset not loaded yet.\")\n"
   ]
  },
  {
   "cell_type": "code",
   "execution_count": null,
   "id": "246e4dbd",
   "metadata": {},
   "outputs": [],
   "source": [
    "\n",
    "# Step 3b: Dataset statistics\n",
    "if 'df' in globals():\n",
    "    display(df.describe(include='all'))\n",
    "else:\n",
    "    print(\"Dataset not loaded yet.\")\n"
   ]
  },
  {
   "cell_type": "code",
   "execution_count": null,
   "id": "223d0eb2",
   "metadata": {},
   "outputs": [],
   "source": [
    "\n",
    "# Step 3c: Missing values check\n",
    "if 'df' in globals():\n",
    "    missing = df.isnull().sum().sort_values(ascending=False)\n",
    "    display(missing)\n",
    "else:\n",
    "    print(\"Dataset not loaded yet.\")\n"
   ]
  },
  {
   "cell_type": "markdown",
   "id": "f36e9672",
   "metadata": {},
   "source": [
    "\n",
    "## (Optional Next Steps)\n",
    "- Plot histograms or boxplots for numeric columns.  \n",
    "- Check duplicates: `df.duplicated().sum()`  \n",
    "- Write 4–6 bullet points summarizing what you learned from `.info()`, `.describe()`, and missing values.  \n"
   ]
  }
 ],
 "metadata": {
  "language_info": {
   "name": "python"
  }
 },
 "nbformat": 4,
 "nbformat_minor": 5
}
